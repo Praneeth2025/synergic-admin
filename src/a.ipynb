{
 "cells": [
  {
   "cell_type": "code",
   "execution_count": 34,
   "metadata": {},
   "outputs": [
    {
     "name": "stdout",
     "output_type": "stream",
     "text": [
      "Shoulder Angle: 11.70°\n",
      "Elbow Angle: 162.42°\n",
      "95.87501610096123\n"
     ]
    }
   ],
   "source": [
    "import math\n",
    "link1 = 18.5  # Length of first arm segment\n",
    "link2 = 22\n",
    "distance_to_target =40\n",
    "# Consider height difference\n",
    "height_difference = 1.5\n",
    "c = math.sqrt(distance_to_target**2 + height_difference**2)\n",
    "\n",
    "# Compute joint angles using Inverse Kinematics (IK)\n",
    "\n",
    "\n",
    "cos_theta2 = (link1**2 + link2**2 - c**2) / (2 * link1 * link2)\n",
    "theta2 = math.degrees(math.acos(cos_theta2))  # Elbow angle\n",
    "\n",
    "cos_theta1 = (link1**2 + c**2 - link2**2) / (2 * link1 * c)\n",
    "theta1 = math.degrees(math.acos(cos_theta1)) + math.degrees(math.atan2(height_difference, distance_to_target))\n",
    "\n",
    "# Print the computed angles\n",
    "print(f\"Shoulder Angle: {theta1:.2f}°\")\n",
    "print(f\"Elbow Angle: {theta2:.2f}°\")\n",
    "print(270-theta1-theta2)"
   ]
  },
  {
   "cell_type": "code",
   "execution_count": null,
   "metadata": {},
   "outputs": [
    {
     "data": {
      "text/plain": [
       "140.48798430616478"
      ]
     },
     "execution_count": 23,
     "metadata": {},
     "output_type": "execute_result"
    }
   ],
   "source": []
  },
  {
   "cell_type": "code",
   "execution_count": null,
   "metadata": {},
   "outputs": [],
   "source": []
  }
 ],
 "metadata": {
  "kernelspec": {
   "display_name": "base",
   "language": "python",
   "name": "python3"
  },
  "language_info": {
   "codemirror_mode": {
    "name": "ipython",
    "version": 3
   },
   "file_extension": ".py",
   "mimetype": "text/x-python",
   "name": "python",
   "nbconvert_exporter": "python",
   "pygments_lexer": "ipython3",
   "version": "3.11.7"
  }
 },
 "nbformat": 4,
 "nbformat_minor": 2
}
